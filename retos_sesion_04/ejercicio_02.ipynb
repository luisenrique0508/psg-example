{
 "cells": [
  {
   "cell_type": "code",
   "execution_count": 22,
   "id": "a359989f",
   "metadata": {},
   "outputs": [
    {
     "name": "stdout",
     "output_type": "stream",
     "text": [
      "(\\_/)             (\\_/)\n",
      "( • •)            (• • )\n",
      "|     > i❤️Python❤️<     \\ \n",
      " \\*-*/             \\*-*/ \n",
      "*************************\n"
     ]
    }
   ],
   "source": [
    "print(\"(\\\\_/)             (\\\\_/)\")\n",
    "print(\"( • •)            (• • )\")\n",
    "print(\"|     > i❤️Python❤️<     \\\\ \")\n",
    "print(\" \\\\*-*/             \\\\*-*/ \")\n",
    "print(\"*************************\")\n",
    "\n",
    "\n"
   ]
  },
  {
   "cell_type": "markdown",
   "id": "b55c4fda",
   "metadata": {},
   "source": [
    "# Amo Python \n",
    "- descripcion de mi dibujo es que dibuje usasndo simbolos dos conejitos \n",
    "- ambos aman a python y eso los une y por eso estan juntos\n",
    "- a pesar del estres que generan cuando su codigo no compila \n",
    "- siguen juntos y resuelven muchos busgs "
   ]
  },
  {
   "cell_type": "markdown",
   "id": "819acfc0",
   "metadata": {},
   "source": []
  }
 ],
 "metadata": {
  "kernelspec": {
   "display_name": "Python 3",
   "language": "python",
   "name": "python3"
  },
  "language_info": {
   "codemirror_mode": {
    "name": "ipython",
    "version": 3
   },
   "file_extension": ".py",
   "mimetype": "text/x-python",
   "name": "python",
   "nbconvert_exporter": "python",
   "pygments_lexer": "ipython3",
   "version": "3.12.1"
  }
 },
 "nbformat": 4,
 "nbformat_minor": 5
}
