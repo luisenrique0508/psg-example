{
 "cells": [
  {
   "cell_type": "markdown",
   "id": "33e204f3",
   "metadata": {},
   "source": [
    "# Juego: Batalla de Dados\n",
    "\n",
    "En este juego, dos jugadores lanzan dados y el que obtenga el número más alto gana. El juego es simple y se puede expandir para incluir más reglas o elementos visuales."
   ]
  },
  {
   "cell_type": "markdown",
   "id": "0dc45d40",
   "metadata": {},
   "source": [
    "## Reglas del Juego\n",
    "\n",
    "1. Cada jugador lanza un dado (valor del 1 al 6).\n",
    "2. Se comparan los valores obtenidos.\n",
    "3. El jugador con el valor más alto gana la ronda.\n",
    "4. En caso de empate, se vuelve a lanzar."
   ]
  },
  {
   "cell_type": "code",
   "execution_count": null,
   "id": "4c1c1a19",
   "metadata": {
    "vscode": {
     "languageId": "plaintext"
    }
   },
   "outputs": [],
   "source": [
    "print(\"===============\")\n",
    "print(\"| Jugador 1 vs Jugador 2 |\")\n",
    "print(\"===============\")\n",
    "print(\"|     Dado     |   Dado   |\")\n",
    "print(\"===============\")\n",
    "print(\"|      ?       |     ?    |\")\n",
    "print(\"===============\")"
   ]
  },
  {
   "cell_type": "markdown",
   "id": "0f04ec0c",
   "metadata": {},
   "source": [
    "## Piezas del Juego\n",
    "\n",
    "- **Dado:** Representa un número aleatorio del 1 al 6.\n",
    "- **Jugador 1 y Jugador 2:** Cada uno representa a un participante humano o automatizado."
   ]
  },
  {
   "cell_type": "code",
   "execution_count": null,
   "id": "42af7251",
   "metadata": {
    "vscode": {
     "languageId": "plaintext"
    }
   },
   "outputs": [],
   "source": [
    "print(\"Cara del dado:\")\n",
    "print(\" ------- \")\n",
    "print(\"|       |\")\n",
    "print(\"|   o   |\")  # ejemplo de cara con 1 punto\n",
    "print(\"|       |\")\n",
    "print(\" ------- \")"
   ]
  }
 ],
 "metadata": {
  "language_info": {
   "name": "python"
  }
 },
 "nbformat": 4,
 "nbformat_minor": 5
}
